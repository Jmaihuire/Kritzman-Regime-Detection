{
 "cells": [
  {
   "cell_type": "markdown",
   "metadata": {},
   "source": [
    "# Regime Detection Using Economic Variables\n",
    "\n",
    "Renjie Pan (renjie.pan@nyu.edu)\n",
    "\n",
    "Tianyu Zhang (tianyuzhang@nyu.edu)\n",
    "\n",
    "Liang Zou (liazou@nyu.edu)"
   ]
  },
  {
   "cell_type": "markdown",
   "metadata": {},
   "source": [
    "## Introduction\n",
    "\n",
    "Economic factors usually lead to regime shifts in financial markets. In this project, we try to develop a two-state Hidden Markov Model (HMM) to detect the regime given time series economic data (financial turbulence, economic growth, and inflation) based on the article \"Regime Shifts: Implications for Dynamic Strategies\" (Kritzman, Page, Turkington, 2012). We will first compute equity turbulence and currency turbulence from S&P 500 sector indices and currencies versus U.S. dollar respectively. After that, we will perform exploratory data analysis (EDA) on these time series and conduct data smoothing to reduce the effects of extreme values (anomaly points). At the end, we use HMM to generate two regimes for each time series."
   ]
  },
  {
   "cell_type": "code",
   "execution_count": 1,
   "metadata": {},
   "outputs": [],
   "source": [
    "import numpy as np\n",
    "import pandas as pd\n",
    "import matplotlib.pyplot as plt\n",
    "import random\n",
    "import math\n",
    "from datetime import datetime\n",
    "from pandas.plotting import register_matplotlib_converters\n",
    "register_matplotlib_converters()"
   ]
  },
  {
   "cell_type": "markdown",
   "metadata": {},
   "source": [
    "## Dataset Description and Loading\n",
    "\n",
    "The economic variables we will use are the following, where data were collected from Federal Reserve Economic Data (FRED) website:\n",
    "\n",
    "$\\textbf{Economic Growth}$: Quarter-over-quarter percentage change in seasonally adjusted U.S. real gross national product (GNP) from second quarter 1947 to second quarter 2019.\n",
    "\n",
    "$\\textbf{Inflation}$: Monthly percentage changes in seasonally adjusted US. Consumer Price Index (CPI) for all urban consumers from February 1947 to July 2019.\n",
    "\n",
    "$\\textbf{Sector Levels}$: 10 S&P 500 sector indices between December 1989 and September 2019.\n",
    "\n",
    "$\\textbf{Currency Pairs}$: G-10 currencies between December 1989 and September 2019."
   ]
  },
  {
   "cell_type": "code",
   "execution_count": 2,
   "metadata": {},
   "outputs": [],
   "source": [
    "directory = '/Users/liangzou/Desktop/Project-and-Presentation-Fall-2019/BNP Project/'\n",
    "data_file_name = 'kritzman data.xlsx'\n",
    "\n",
    "econ_growth = pd.read_excel(directory + data_file_name, 0)\n",
    "inflation = pd.read_excel(directory + data_file_name, 1)\n",
    "sector = pd.read_excel(directory + data_file_name, 2)\n",
    "currency = pd.read_excel(directory + data_file_name, 3)"
   ]
  },
  {
   "cell_type": "markdown",
   "metadata": {},
   "source": [
    "## Compute Financial Turbulence\n",
    "\n",
    "We compute the financial turbulence using the following:\n",
    "\n",
    "$$d_t = (y_t - \\mu) \\Sigma^{-1} (y_t - \\mu)'$$\n",
    "\n",
    "$y_t$: asset returns for period t\n",
    "\n",
    "$\\mu$: sample average historical returns\n",
    "\n",
    "$\\Sigma$: sample covariance matrix of historical returns\n",
    "\n",
    "$\\textbf{Equity Turbulence}$: Historical returns for past 10 years for S&P 500 sector indices\n",
    "\n",
    "$\\textbf{Currency Turbulence}$: Historical returns for past 3 years for G-10 currencies versus U.S. dollar (USD)"
   ]
  },
  {
   "cell_type": "code",
   "execution_count": 3,
   "metadata": {},
   "outputs": [],
   "source": [
    "def compute_turbulence(df, years=3, alpha=0.01):\n",
    "    '''\n",
    "    Compute financial turbulence given time series data\n",
    "        input: \n",
    "            df || DataFrame || a Dataframe includes Column \"Date\"\n",
    "            years || integer || number of years to compute historical returns\n",
    "            alpha || float || a punishment coefficient when inverse-coveriance is singular\n",
    "        output: Turbulence || DataFrame || Column = [\"Date\", \"Turbulence\"]\n",
    "    '''\n",
    "    \n",
    "    # Compute return for this series\n",
    "    df_return = df.iloc[1:,1:].values / df.iloc[:-1,1:].values - 1\n",
    "    distance = []\n",
    "    error = []\n",
    "    days_in_year = 252\n",
    "    \n",
    "    for i in range(years * days_in_year, len(df)-1):\n",
    "        df_past_return = df_return[:i+1,:]\n",
    "        # Compute historical mean return\n",
    "        mu = np.mean(df_past_return, axis=0)\n",
    "        try:\n",
    "            # Compute inverse covariance matrix\n",
    "            inv_sig = np.linalg.inv(np.cov(df_past_return.T))\n",
    "        except:\n",
    "            # Find days when covariance matrices are not invertible\n",
    "            # and add small numbers to the diagonal\n",
    "            sigma = np.cov(df_past_return.T)\n",
    "            x = np.ones(sigma.shape[0])\n",
    "            inv_sig = np.linalg.inv(sigma + np.diag(x)*alpha)\n",
    "            error.append(i)\n",
    "\n",
    "        y = np.array(df_return[i,:])\n",
    "        d = np.dot(np.dot(y-mu, inv_sig),(y-mu).T)\n",
    "        distance.append(d)\n",
    "    \n",
    "    Turbulence = pd.DataFrame({'Date': df['Date'][-len(distance):], 'Turbulence': distance})\n",
    "    \n",
    "    if error != []:\n",
    "        print('Rows that produce singular covariance matrix')\n",
    "        print(np.array(error) + 2)\n",
    "    \n",
    "    return Turbulence"
   ]
  },
  {
   "cell_type": "code",
   "execution_count": 4,
   "metadata": {},
   "outputs": [],
   "source": [
    "sector_turbulence = compute_turbulence(sector, years=10)\n",
    "currency_turbulence = compute_turbulence(currency, years=3)"
   ]
  },
  {
   "cell_type": "markdown",
   "metadata": {},
   "source": [
    "## Exploratory Data Analysis and Data Smoothing"
   ]
  },
  {
   "cell_type": "code",
   "execution_count": 5,
   "metadata": {},
   "outputs": [
    {
     "data": {
      "text/html": [
       "<div>\n",
       "<style scoped>\n",
       "    .dataframe tbody tr th:only-of-type {\n",
       "        vertical-align: middle;\n",
       "    }\n",
       "\n",
       "    .dataframe tbody tr th {\n",
       "        vertical-align: top;\n",
       "    }\n",
       "\n",
       "    .dataframe thead th {\n",
       "        text-align: right;\n",
       "    }\n",
       "</style>\n",
       "<table border=\"1\" class=\"dataframe\">\n",
       "  <thead>\n",
       "    <tr style=\"text-align: right;\">\n",
       "      <th></th>\n",
       "      <th>Economic Growth</th>\n",
       "      <th>Inflation</th>\n",
       "      <th>Equity Turbulence</th>\n",
       "      <th>Currency Turbulence</th>\n",
       "    </tr>\n",
       "  </thead>\n",
       "  <tbody>\n",
       "    <tr>\n",
       "      <th>count</th>\n",
       "      <td>289.0000</td>\n",
       "      <td>870.0000</td>\n",
       "      <td>4905.0000</td>\n",
       "      <td>6669.0000</td>\n",
       "    </tr>\n",
       "    <tr>\n",
       "      <th>mean</th>\n",
       "      <td>3.2128</td>\n",
       "      <td>0.2847</td>\n",
       "      <td>10.6787</td>\n",
       "      <td>7.9320</td>\n",
       "    </tr>\n",
       "    <tr>\n",
       "      <th>std</th>\n",
       "      <td>3.8463</td>\n",
       "      <td>0.3443</td>\n",
       "      <td>18.0354</td>\n",
       "      <td>27.8651</td>\n",
       "    </tr>\n",
       "    <tr>\n",
       "      <th>min</th>\n",
       "      <td>-10.0000</td>\n",
       "      <td>-1.8000</td>\n",
       "      <td>0.0023</td>\n",
       "      <td>0.1927</td>\n",
       "    </tr>\n",
       "    <tr>\n",
       "      <th>25%</th>\n",
       "      <td>1.2000</td>\n",
       "      <td>0.1000</td>\n",
       "      <td>2.9631</td>\n",
       "      <td>2.7772</td>\n",
       "    </tr>\n",
       "    <tr>\n",
       "      <th>50%</th>\n",
       "      <td>3.1000</td>\n",
       "      <td>0.2000</td>\n",
       "      <td>5.2398</td>\n",
       "      <td>4.8709</td>\n",
       "    </tr>\n",
       "    <tr>\n",
       "      <th>75%</th>\n",
       "      <td>5.1000</td>\n",
       "      <td>0.4000</td>\n",
       "      <td>10.6382</td>\n",
       "      <td>8.7553</td>\n",
       "    </tr>\n",
       "    <tr>\n",
       "      <th>max</th>\n",
       "      <td>16.7000</td>\n",
       "      <td>2.0000</td>\n",
       "      <td>393.9824</td>\n",
       "      <td>2072.4420</td>\n",
       "    </tr>\n",
       "  </tbody>\n",
       "</table>\n",
       "</div>"
      ],
      "text/plain": [
       "       Economic Growth  Inflation  Equity Turbulence  Currency Turbulence\n",
       "count         289.0000   870.0000          4905.0000            6669.0000\n",
       "mean            3.2128     0.2847            10.6787               7.9320\n",
       "std             3.8463     0.3443            18.0354              27.8651\n",
       "min           -10.0000    -1.8000             0.0023               0.1927\n",
       "25%             1.2000     0.1000             2.9631               2.7772\n",
       "50%             3.1000     0.2000             5.2398               4.8709\n",
       "75%             5.1000     0.4000            10.6382               8.7553\n",
       "max            16.7000     2.0000           393.9824            2072.4420"
      ]
     },
     "execution_count": 5,
     "metadata": {},
     "output_type": "execute_result"
    }
   ],
   "source": [
    "EDA_dataframe = pd.concat([econ_growth.describe(), inflation.describe(), \n",
    "           sector_turbulence['Turbulence'].describe(), currency_turbulence['Turbulence'].describe()], axis=1)\n",
    "EDA_dataframe.columns = ['Economic Growth','Inflation','Equity Turbulence','Currency Turbulence']\n",
    "EDA_dataframe.round(4)"
   ]
  },
  {
   "cell_type": "code",
   "execution_count": 6,
   "metadata": {},
   "outputs": [
    {
     "data": {
      "text/html": [
       "<div>\n",
       "<style scoped>\n",
       "    .dataframe tbody tr th:only-of-type {\n",
       "        vertical-align: middle;\n",
       "    }\n",
       "\n",
       "    .dataframe tbody tr th {\n",
       "        vertical-align: top;\n",
       "    }\n",
       "\n",
       "    .dataframe thead th {\n",
       "        text-align: right;\n",
       "    }\n",
       "</style>\n",
       "<table border=\"1\" class=\"dataframe\">\n",
       "  <thead>\n",
       "    <tr style=\"text-align: right;\">\n",
       "      <th></th>\n",
       "      <th>Date</th>\n",
       "      <th>Turbulence</th>\n",
       "    </tr>\n",
       "  </thead>\n",
       "  <tbody>\n",
       "    <tr>\n",
       "      <th>6265</th>\n",
       "      <td>2015-01-15</td>\n",
       "      <td>2072.44202</td>\n",
       "    </tr>\n",
       "  </tbody>\n",
       "</table>\n",
       "</div>"
      ],
      "text/plain": [
       "           Date  Turbulence\n",
       "6265 2015-01-15  2072.44202"
      ]
     },
     "execution_count": 6,
     "metadata": {},
     "output_type": "execute_result"
    }
   ],
   "source": [
    "currency_turbulence.loc[currency_turbulence['Turbulence'] > 2000, ['Date','Turbulence']]"
   ]
  },
  {
   "cell_type": "markdown",
   "metadata": {},
   "source": [
    "The descriptive statistics show all 4 time series are little right-skewed with larger mean than median. The skewness is extremely large in equity and currency turbulence since a number of observations are greater than 100 whereas the means are 10.67 in equity and 7.93 in currency. \n",
    "\n",
    "On January 15th, 2015, the currency turbulence is 2072, which resulted from a special event: The Swiss National Bank abandoned cap on the Swiss franc’s exchange rate against the euro."
   ]
  },
  {
   "cell_type": "code",
   "execution_count": 7,
   "metadata": {},
   "outputs": [],
   "source": [
    "def data_smoothing(Turbulence):\n",
    "    \"\"\"\n",
    "    Perform data smoothing on turbulence time series by taking square root and monthly average\n",
    "    @Turbulence: Pandas DataFrame (raw time series)\n",
    "    @return: Pandas DataFrame (smoothed time series)\n",
    "    \"\"\"\n",
    "    # Take the square root of turbulence\n",
    "    Turbulence['Sqrt_Turbulence'] = Turbulence.apply(lambda row: np.sqrt(row['Turbulence']), axis=1)\n",
    "    \n",
    "    # Compute monthly mean turbulence\n",
    "    Turbulence['Month'] = Turbulence.apply(lambda row: np.datetime64(row['Date'],'M'), axis=1)\n",
    "    Monthly_Turbulence = Turbulence.groupby(['Month'])['Sqrt_Turbulence'].mean()\n",
    "    Monthly_Turbulence = Monthly_Turbulence.reset_index()\n",
    "    Monthly_Turbulence = Monthly_Turbulence.rename(columns={\"Month\": \"Date\", \"Sqrt_Turbulence\": \"Turbulence\"})\n",
    "    \n",
    "    return Monthly_Turbulence"
   ]
  },
  {
   "cell_type": "code",
   "execution_count": 8,
   "metadata": {},
   "outputs": [],
   "source": [
    "sector_turbulence_monthly = data_smoothing(sector_turbulence)\n",
    "currency_turbulence_monthly = data_smoothing(currency_turbulence)"
   ]
  },
  {
   "cell_type": "code",
   "execution_count": 9,
   "metadata": {},
   "outputs": [
    {
     "data": {
      "text/html": [
       "<div>\n",
       "<style scoped>\n",
       "    .dataframe tbody tr th:only-of-type {\n",
       "        vertical-align: middle;\n",
       "    }\n",
       "\n",
       "    .dataframe tbody tr th {\n",
       "        vertical-align: top;\n",
       "    }\n",
       "\n",
       "    .dataframe thead th {\n",
       "        text-align: right;\n",
       "    }\n",
       "</style>\n",
       "<table border=\"1\" class=\"dataframe\">\n",
       "  <thead>\n",
       "    <tr style=\"text-align: right;\">\n",
       "      <th></th>\n",
       "      <th>Equity Turbulence</th>\n",
       "      <th>Currency Turbulence</th>\n",
       "      <th>Equity Turbulence (Monthly)</th>\n",
       "      <th>Currency Turbulence (Monthly)</th>\n",
       "    </tr>\n",
       "  </thead>\n",
       "  <tbody>\n",
       "    <tr>\n",
       "      <th>count</th>\n",
       "      <td>4905.0000</td>\n",
       "      <td>6669.0000</td>\n",
       "      <td>237.0000</td>\n",
       "      <td>321.0000</td>\n",
       "    </tr>\n",
       "    <tr>\n",
       "      <th>mean</th>\n",
       "      <td>10.6787</td>\n",
       "      <td>7.9320</td>\n",
       "      <td>2.8126</td>\n",
       "      <td>2.4727</td>\n",
       "    </tr>\n",
       "    <tr>\n",
       "      <th>std</th>\n",
       "      <td>18.0354</td>\n",
       "      <td>27.8651</td>\n",
       "      <td>1.3794</td>\n",
       "      <td>0.7712</td>\n",
       "    </tr>\n",
       "    <tr>\n",
       "      <th>min</th>\n",
       "      <td>0.0023</td>\n",
       "      <td>0.1927</td>\n",
       "      <td>1.3590</td>\n",
       "      <td>1.3590</td>\n",
       "    </tr>\n",
       "    <tr>\n",
       "      <th>25%</th>\n",
       "      <td>2.9631</td>\n",
       "      <td>2.7772</td>\n",
       "      <td>1.9566</td>\n",
       "      <td>2.0127</td>\n",
       "    </tr>\n",
       "    <tr>\n",
       "      <th>50%</th>\n",
       "      <td>5.2398</td>\n",
       "      <td>4.8709</td>\n",
       "      <td>2.2435</td>\n",
       "      <td>2.3324</td>\n",
       "    </tr>\n",
       "    <tr>\n",
       "      <th>75%</th>\n",
       "      <td>10.6382</td>\n",
       "      <td>8.7553</td>\n",
       "      <td>3.0919</td>\n",
       "      <td>2.7635</td>\n",
       "    </tr>\n",
       "    <tr>\n",
       "      <th>max</th>\n",
       "      <td>393.9824</td>\n",
       "      <td>2072.4420</td>\n",
       "      <td>8.6802</td>\n",
       "      <td>8.2737</td>\n",
       "    </tr>\n",
       "  </tbody>\n",
       "</table>\n",
       "</div>"
      ],
      "text/plain": [
       "       Equity Turbulence  Currency Turbulence  Equity Turbulence (Monthly)  \\\n",
       "count          4905.0000            6669.0000                     237.0000   \n",
       "mean             10.6787               7.9320                       2.8126   \n",
       "std              18.0354              27.8651                       1.3794   \n",
       "min               0.0023               0.1927                       1.3590   \n",
       "25%               2.9631               2.7772                       1.9566   \n",
       "50%               5.2398               4.8709                       2.2435   \n",
       "75%              10.6382               8.7553                       3.0919   \n",
       "max             393.9824            2072.4420                       8.6802   \n",
       "\n",
       "       Currency Turbulence (Monthly)  \n",
       "count                       321.0000  \n",
       "mean                          2.4727  \n",
       "std                           0.7712  \n",
       "min                           1.3590  \n",
       "25%                           2.0127  \n",
       "50%                           2.3324  \n",
       "75%                           2.7635  \n",
       "max                           8.2737  "
      ]
     },
     "execution_count": 9,
     "metadata": {},
     "output_type": "execute_result"
    }
   ],
   "source": [
    "EDA_dataframe_turbulence = pd.concat([sector_turbulence['Turbulence'].describe(), \n",
    "                                      currency_turbulence['Turbulence'].describe(),\n",
    "                                       sector_turbulence_monthly['Turbulence'].describe(), \n",
    "                                      currency_turbulence_monthly['Turbulence'].describe()], axis=1)\n",
    "EDA_dataframe_turbulence.columns = ['Equity Turbulence','Currency Turbulence',\n",
    "                        'Equity Turbulence (Monthly)','Currency Turbulence (Monthly)']\n",
    "EDA_dataframe_turbulence.round(4)"
   ]
  },
  {
   "cell_type": "markdown",
   "metadata": {},
   "source": [
    "Due to right-skewness, we take the square root of turbulence and compute the monthly average. In comparing the summary statistics, their means and medians only change a little while the extreme values diminish significantly. Therefore, it is better to use smoothed equity turbulence and currency turbulence for further analysis."
   ]
  },
  {
   "cell_type": "markdown",
   "metadata": {},
   "source": [
    "## HMM based on Baum-Welch Algorithm\n",
    "\n",
    "We develop Hidden Markov Model (HMM) with 2 states by default, which tries to estimate normal and event regimes. After calibrating the two-state HMM, we choose the regime with larger volatility ($\\sigma$) as event regime and the one with smaller volatility ($\\sigma$) as normal regime, since we believe event regime is more volatile while normal regime is more stable."
   ]
  },
  {
   "cell_type": "code",
   "execution_count": 10,
   "metadata": {},
   "outputs": [],
   "source": [
    "def fit_hmm(df, dim=2, max_iteration=1000, tolerance=1e-8):\n",
    "    \"\"\"\n",
    "    Fit Hidden Markov Model based on Baum-Welch Algorithm.\n",
    "    Here, we assume each regime is normally distributed with certain mean and variance.\n",
    "    @df: Pandas DataFrame (time series data)\n",
    "    @dim: integer (number of regimes or states)\n",
    "    @max_iteration: interger (maximum number of iterations)\n",
    "    @tolerance: float (tolerance for convergence)\n",
    "    @return: Pandas DataFrame (Date, Probability of event regime)\n",
    "             Event Regime (Persistence, mu, sigma)\n",
    "             Normal Regime (Persistence, mu, sigma)\n",
    "    \"\"\"\n",
    "    \n",
    "    y = df.iloc[:,1].values\n",
    "    \n",
    "    random.seed(42)\n",
    "    T = len(y)\n",
    "    mu_y = np.mean(y)\n",
    "    sigma_y = np.std(y)\n",
    "    mu = [mu_y] * dim\n",
    "    # mu = [x * mu_y for x in range(dim)]\n",
    "    sigma = [sigma_y] * dim\n",
    "    \n",
    "    for d in range(dim): \n",
    "        mu[d] += np.asscalar(np.random.randn(1, 1) * sigma_y)\n",
    "        # mu[d] += np.asscalar((0.1 * (d + 1))* sigma_y)\n",
    "    \n",
    "    # Initialize transition probability matrix and initial probability\n",
    "    A = np.ones((dim, dim)) / dim\n",
    "    p = np.ones((1, dim)) / dim\n",
    "    PI = math.pi\n",
    "    \n",
    "    iteration = 1\n",
    "    likelihood = [-2**31]\n",
    "    change_likelihood = 2**31\n",
    "    \n",
    "    # Initialize matrices\n",
    "    B = np.zeros((T, dim))\n",
    "    forward = np.zeros((T, dim))\n",
    "    backward = np.zeros((T, dim))\n",
    "    scale = np.zeros((T, dim))\n",
    "    smoothed = np.zeros((T, dim))\n",
    "    xi = np.zeros((dim, dim, T))\n",
    "    \n",
    "    while change_likelihood > tolerance and iteration < max_iteration:\n",
    "        \n",
    "        for t in range(T):\n",
    "            for d in range(dim):\n",
    "                # Compute normal pdf for each time step, each regime\n",
    "                B[t,d] = np.asscalar(1 / np.sqrt(2 * PI * sigma[d]**2) * np.exp(-0.5 * ((y[t] - mu[d])/sigma[d])**2))\n",
    "        \n",
    "        forward[0,:] = p * B[0,:]\n",
    "        scale[0,:] = np.sum(forward[0,:])\n",
    "        forward[0,:] = forward[0,:] / np.sum(forward[0,:])\n",
    "        \n",
    "        for t in range(1, T):\n",
    "            forward[t,:] = np.dot(forward[t-1,:], A)*B[t,:]\n",
    "            scale[t,:] = np.sum(forward[t,:])\n",
    "            forward[t,:] = forward[t,:] / np.sum(forward[t,:])\n",
    "            \n",
    "        backward[T-1,:] = B[T-1,:]\n",
    "        backward[T-1,:] = backward[T-1,:] / np.sum(backward[T-1,:])\n",
    "        \n",
    "        for t in range(T-2, -1 ,-1):\n",
    "            backward[t,:] = np.dot(A, backward[t+1,:].T).T*B[t+1,:]\n",
    "            backward[t,:] = backward[t,:] / np.sum(backward[t,:])\n",
    "            \n",
    "        for t in range(T):\n",
    "            smoothed[t,:] = forward[t,:]*backward[t,:]\n",
    "            smoothed[t,:] = smoothed[t,:] / np.sum(smoothed[t,:])\n",
    "            \n",
    "        for t in range(T-1):\n",
    "            xi[:,:,t] = A * np.dot(forward[t,:].reshape((dim, 1)), (backward[t+1,:]*B[t+1,:]).reshape((1, dim)))\n",
    "            xi[:,:,t] = xi[:,:,t] / np.sum(xi[:,:,t])\n",
    "                \n",
    "        p = smoothed[0,:]\n",
    "        exp_num_transitions = np.sum(xi, axis = 2)\n",
    "        \n",
    "        for d in range(dim):\n",
    "            A[d,:] = exp_num_transitions[d,:] / np.sum(xi[d,:,:])\n",
    "            mu[d] = np.asscalar(np.dot(smoothed[:,d].T,y).T / np.sum(smoothed[:,d]))   \n",
    "            sigma[d] = np.asscalar(np.sqrt(np.sum(smoothed[:,d]*(y-mu[d])*(y-mu[d])) / np.sum(smoothed[:,d])))\n",
    "            \n",
    "        likelihood.append(np.asscalar(np.sum(np.log(scale))))\n",
    "        change_likelihood = np.asscalar(np.abs(likelihood[-1]-likelihood[-2]))\n",
    "        iteration +=1\n",
    "    \n",
    "    print('Transition Probability =')\n",
    "    print(np.round(A, 4))\n",
    "    \n",
    "    print('Mean =')\n",
    "    print(np.round(mu, 4))\n",
    "    \n",
    "    print('Standard Deviation =')\n",
    "    print(np.round(sigma, 4))\n",
    "    \n",
    "    print('Initial Probability =')\n",
    "    print(np.round(p, 4))\n",
    "    \n",
    "    # Choose largest sigma as event regime and smallest sigma as normal regime\n",
    "    event_index = np.argmax(sigma)\n",
    "    normal_index = np.argmin(sigma)\n",
    "    \n",
    "    df['Event'] = pd.Series(smoothed[:,event_index])\n",
    "    df['Normal'] = pd.Series(smoothed[:,normal_index])\n",
    "    \n",
    "    plt.figure(figsize=(9,6))\n",
    "    plt.plot(df['Date'], df['Event'] * 100);\n",
    "    plt.title('Probability of Event Regime')\n",
    "    plt.ylabel('Percent')\n",
    "    plt.xlabel('Year')\n",
    "    \n",
    "    # Get Persistence from transition probability matrix\n",
    "    persistence = A.diagonal()\n",
    "    \n",
    "    return df[['Date','Event']], [persistence[event_index], mu[event_index], sigma[event_index]], \\\n",
    "            [persistence[normal_index], mu[normal_index], sigma[normal_index]]"
   ]
  },
  {
   "cell_type": "markdown",
   "metadata": {},
   "source": [
    "## Regime Detection on Economic Growth"
   ]
  },
  {
   "cell_type": "code",
   "execution_count": 11,
   "metadata": {},
   "outputs": [
    {
     "name": "stdout",
     "output_type": "stream",
     "text": [
      "Transition Probability =\n",
      "[[0.9796 0.0204]\n",
      " [0.0263 0.9737]]\n",
      "Mean =\n",
      "[2.9495 3.4456]\n",
      "Standard Deviation =\n",
      "[1.8954 4.9485]\n",
      "Initial Probability =\n",
      "[0. 1.]\n"
     ]
    },
    {
     "data": {
      "image/png": "[encoded data removed]",
      "text/plain": [
       "<Figure size 648x432 with 1 Axes>"
      ]
     },
     "metadata": {
      "needs_background": "light"
     },
     "output_type": "display_data"
    }
   ],
   "source": [
    "econ_hmm = fit_hmm(econ_growth)"
   ]
  },
  {
   "cell_type": "markdown",
   "metadata": {},
   "source": [
    "Based on economic growth time series, the two regimes are normally distributed with mean 3.45, 2.95 and standard deviation 4.94, 1.90 respectively. The result shows the center of two regimes are close to each other but the first one is more volatile. \n",
    "\n",
    "Before 1980 or so, it mainly stays in event regimes. In the year of 2008, there exists a huge jump back to the event regime, due to financial crisis."
   ]
  },
  {
   "cell_type": "markdown",
   "metadata": {},
   "source": [
    "## Regime Detection on Inflation"
   ]
  },
  {
   "cell_type": "code",
   "execution_count": 12,
   "metadata": {},
   "outputs": [
    {
     "name": "stdout",
     "output_type": "stream",
     "text": [
      "Transition Probability =\n",
      "[[0.9486 0.0514]\n",
      " [0.0144 0.9856]]\n",
      "Mean =\n",
      "[0.5402 0.2061]\n",
      "Standard Deviation =\n",
      "[0.5369 0.1997]\n",
      "Initial Probability =\n",
      "[1. 0.]\n"
     ]
    },
    {
     "data": {
      "image/png": "[encoded data removed]",
      "text/plain": [
       "<Figure size 648x432 with 1 Axes>"
      ]
     },
     "metadata": {
      "needs_background": "light"
     },
     "output_type": "display_data"
    }
   ],
   "source": [
    "inflation_hmm = fit_hmm(inflation)"
   ]
  },
  {
   "cell_type": "markdown",
   "metadata": {},
   "source": [
    "In terms of inflation, the normal regime has mean 0.21 with standard deviation 0.20 while the event regime produces a normal distribution with mean 0.54 and standard deviation 0.53. \n",
    "\n",
    "The inflation starts with event regime until 1952. After that, it stays in normal regime for around 15 years. There exists several peaks of event regime between 1972 and 1982. In the years of 1990 and 2008, the switches result from some global financial crisis. "
   ]
  },
  {
   "cell_type": "markdown",
   "metadata": {},
   "source": [
    "## Regime Detection on Equity turbulence"
   ]
  },
  {
   "cell_type": "code",
   "execution_count": 13,
   "metadata": {},
   "outputs": [
    {
     "name": "stdout",
     "output_type": "stream",
     "text": [
      "Transition Probability =\n",
      "[[0.9846 0.0154]\n",
      " [0.0587 0.9413]]\n",
      "Mean =\n",
      "[2.1656 4.7168]\n",
      "Standard Deviation =\n",
      "[0.4219 1.4456]\n",
      "Initial Probability =\n",
      "[0. 1.]\n"
     ]
    },
    {
     "data": {
      "image/png": "[encoded data removed]",
      "text/plain": [
       "<Figure size 648x432 with 1 Axes>"
      ]
     },
     "metadata": {
      "needs_background": "light"
     },
     "output_type": "display_data"
    }
   ],
   "source": [
    "sector_hmm = fit_hmm(sector_turbulence_monthly)"
   ]
  },
  {
   "cell_type": "markdown",
   "metadata": {},
   "source": [
    "The two regimes in equity turbulence are distinct to each other. The first one has mean 4.72 with standard deviation 1.45 while the later one has mean 2.17 and standard deviation 0.42.\n",
    "\n",
    "After 2004, the majority of regimes are stable except for the years of 2008 and 2018 due to fluctations of financial markets."
   ]
  },
  {
   "cell_type": "markdown",
   "metadata": {},
   "source": [
    "## Regime Detection on Currency turbulence"
   ]
  },
  {
   "cell_type": "code",
   "execution_count": 14,
   "metadata": {},
   "outputs": [
    {
     "name": "stdout",
     "output_type": "stream",
     "text": [
      "Transition Probability =\n",
      "[[0.9684 0.0316]\n",
      " [0.3385 0.6615]]\n",
      "Mean =\n",
      "[2.3292 4.1186]\n",
      "Standard Deviation =\n",
      "[0.4715 1.3779]\n",
      "Initial Probability =\n",
      "[1. 0.]\n"
     ]
    },
    {
     "data": {
      "image/png": "[encoded data removed]",
      "text/plain": [
       "<Figure size 648x432 with 1 Axes>"
      ]
     },
     "metadata": {
      "needs_background": "light"
     },
     "output_type": "display_data"
    }
   ],
   "source": [
    "currency_hmm = fit_hmm(currency_turbulence_monthly)"
   ]
  },
  {
   "cell_type": "markdown",
   "metadata": {},
   "source": [
    "Similar to equity turbulence, the first regime (event) in currency is normally distributed with mean 2.33 and volatility 3.67 while the second one has mean 4.12 and volatility 1.38. \n",
    "\n",
    "Every time a recession or global financial crisis happens, the series will switch to event regime. The equity turbulence becomes stable (normal regime) between 1998 and 2007."
   ]
  },
  {
   "cell_type": "markdown",
   "metadata": {},
   "source": [
    "## Summary"
   ]
  },
  {
   "cell_type": "code",
   "execution_count": 15,
   "metadata": {},
   "outputs": [
    {
     "data": {
      "text/html": [
       "<div>\n",
       "<style scoped>\n",
       "    .dataframe tbody tr th:only-of-type {\n",
       "        vertical-align: middle;\n",
       "    }\n",
       "\n",
       "    .dataframe tbody tr th {\n",
       "        vertical-align: top;\n",
       "    }\n",
       "\n",
       "    .dataframe thead th {\n",
       "        text-align: right;\n",
       "    }\n",
       "</style>\n",
       "<table border=\"1\" class=\"dataframe\">\n",
       "  <thead>\n",
       "    <tr style=\"text-align: right;\">\n",
       "      <th></th>\n",
       "      <th>Persistence (event)</th>\n",
       "      <th>Mu (event)</th>\n",
       "      <th>Sigma (event)</th>\n",
       "      <th>Persistence (normal)</th>\n",
       "      <th>Mu (normal)</th>\n",
       "      <th>Sigma (normal)</th>\n",
       "    </tr>\n",
       "  </thead>\n",
       "  <tbody>\n",
       "    <tr>\n",
       "      <th>Economic Growth</th>\n",
       "      <td>0.9737</td>\n",
       "      <td>3.4456</td>\n",
       "      <td>4.9485</td>\n",
       "      <td>0.9796</td>\n",
       "      <td>2.9495</td>\n",
       "      <td>1.8954</td>\n",
       "    </tr>\n",
       "    <tr>\n",
       "      <th>Inflation</th>\n",
       "      <td>0.9486</td>\n",
       "      <td>0.5402</td>\n",
       "      <td>0.5369</td>\n",
       "      <td>0.9856</td>\n",
       "      <td>0.2061</td>\n",
       "      <td>0.1997</td>\n",
       "    </tr>\n",
       "    <tr>\n",
       "      <th>Equity Turbulence</th>\n",
       "      <td>0.9413</td>\n",
       "      <td>4.7168</td>\n",
       "      <td>1.4456</td>\n",
       "      <td>0.9846</td>\n",
       "      <td>2.1656</td>\n",
       "      <td>0.4219</td>\n",
       "    </tr>\n",
       "    <tr>\n",
       "      <th>Currency Turbulence</th>\n",
       "      <td>0.6615</td>\n",
       "      <td>4.1186</td>\n",
       "      <td>1.3779</td>\n",
       "      <td>0.9684</td>\n",
       "      <td>2.3292</td>\n",
       "      <td>0.4715</td>\n",
       "    </tr>\n",
       "  </tbody>\n",
       "</table>\n",
       "</div>"
      ],
      "text/plain": [
       "                     Persistence (event)  Mu (event)  Sigma (event)  \\\n",
       "Economic Growth                   0.9737      3.4456         4.9485   \n",
       "Inflation                         0.9486      0.5402         0.5369   \n",
       "Equity Turbulence                 0.9413      4.7168         1.4456   \n",
       "Currency Turbulence               0.6615      4.1186         1.3779   \n",
       "\n",
       "                     Persistence (normal)  Mu (normal)  Sigma (normal)  \n",
       "Economic Growth                    0.9796       2.9495          1.8954  \n",
       "Inflation                          0.9856       0.2061          0.1997  \n",
       "Equity Turbulence                  0.9846       2.1656          0.4219  \n",
       "Currency Turbulence                0.9684       2.3292          0.4715  "
      ]
     },
     "execution_count": 15,
     "metadata": {},
     "output_type": "execute_result"
    }
   ],
   "source": [
    "event_regimes = pd.DataFrame(np.stack([econ_hmm[1],inflation_hmm[1],sector_hmm[1],currency_hmm[1]]),\n",
    "                            columns = ['Persistence (event)','Mu (event)','Sigma (event)'],\n",
    "                            index = ['Economic Growth', 'Inflation', 'Equity Turbulence', 'Currency Turbulence'])\n",
    "normal_regimes = pd.DataFrame(np.stack([econ_hmm[2],inflation_hmm[2],sector_hmm[2],currency_hmm[2]]),\n",
    "                            columns = ['Persistence (normal)','Mu (normal)','Sigma (normal)'],\n",
    "                            index = ['Economic Growth', 'Inflation', 'Equity Turbulence', 'Currency Turbulence'])\n",
    "combine_regimes = pd.concat([event_regimes, normal_regimes], axis = 1)\n",
    "combine_regimes.round(4)"
   ]
  },
  {
   "cell_type": "markdown",
   "metadata": {},
   "source": [
    "The first three columns represent the statistics in event regimes while the rest represents the normal regimes. It shows the means ($\\mu$) and volatilies ($\\sigma$) in event regimes are larger than normal regimes across all economic variables whereas the persistence in event regimes is lower."
   ]
  },
  {
   "cell_type": "markdown",
   "metadata": {},
   "source": [
    "## Output CSV Files"
   ]
  },
  {
   "cell_type": "code",
   "execution_count": 16,
   "metadata": {},
   "outputs": [],
   "source": [
    "econ_hmm[0].to_csv(directory + 'economic_growth.csv', index = False)\n",
    "inflation_hmm[0].to_csv(directory + 'inflation.csv', index = False)\n",
    "sector_hmm[0].to_csv(directory + 'equity_turbulence.csv', index = False)\n",
    "currency_hmm[0].to_csv(directory + 'currency_turbulence.csv', index = False)"
   ]
  },
  {
   "cell_type": "markdown",
   "metadata": {},
   "source": [
    "## Related Questions\n",
    "\n",
    "### 1. What are the assumptions behind the model?\n",
    "\n",
    "(a) We assume there are only two regimes in total.\n",
    "\n",
    "(b) Each regime is normally distributed with certain mean and standard deviation.\n",
    "\n",
    "(c) Every regime is independent of each other (correlation is 0).\n",
    "\n",
    "(d) Two regimes follow Markov property in the following:\n",
    "\n",
    "$$p(y_1,y_2,...,y_n) = p(y_1)p(y_2|y_1)...p(y_n|y_{n-1},...,y_1) = p(y_1)p(y_2|y_1)...p(y_n|y_{n-1})$$\n",
    "\n",
    "$$p(x_1, x_2, ..., x_T, y_1, ..., y_T) = p(x_0)\\prod_{k=1}^T p(x_k|x_{k-1})p(y_k|x_k)$$\n",
    "$$=p(y_1,...,y_T|x_1,...,x_T)p(x_1,...,x_T)$$\n",
    "\n",
    "### 2. What happens if they are not true?\n",
    "\n",
    "(a) It may cause underfitting in out-of-sample analysis if there exists more than 2 regimes.\n",
    "\n",
    "(b) If assumption of normality is violated, it will lead to inaccurate estimations of extreme values due to fat-tail.\n",
    "\n",
    "(c) If regimes are dependent, it will produce wrong estimations of covariance matrix.\n",
    "\n",
    "(d) If Markov property is violated, we cannot compute the regime in terms of $x^{(n+1)} = x^{(n)} A$. As a result, we cannot iterate the time series as we did in our optimization algorithm.\n",
    "\n",
    "### 3. What potential weaknesses and limitations can you identify in this approach?\n",
    "\n",
    "(a) The algorithm is not robust to extremely large values (outliers). We original ran our HMM using raw data without data cleansing. Some time series fail to converge and produce NaN due to these anomaly observations. \n",
    "\n",
    "(b) The model does not consider correlations between regimes. In the future, we can introduce Gaussian Mixture Model with covariance matrix.\n",
    "\n",
    "(c) Similar to K Means clustering, this algorithm will produce different results with different random initial points. In other words, the algorithm does not converge to global optimum every time. What we can to do is to collect more data or run the algorithm multiple times to see whether it converges to one state more often than the others."
   ]
  },
  {
   "cell_type": "markdown",
   "metadata": {},
   "source": [
    "## Reference\n",
    "\n",
    "Kritzman, Mark, Sebastien Page, and David Turkington. \"Regime shifts: Implications for dynamic strategies (corrected).\" Financial Analysts Journal 68.3 (2012): 22-39.\n",
    "\n",
    "Blackstone, Brian. \"What Happened With the Swiss Franc?\" The Wall Street Journal (2015). Retrieved from https://blogs.wsj.com/briefly/2015/01/15/what-happened-with-the-swiss-franc-the-short-answer/"
   ]
  }
 ],
 "metadata": {
  "kernelspec": {
   "display_name": "Python 3",
   "language": "python",
   "name": "python3"
  },
  "language_info": {
   "codemirror_mode": {
    "name": "ipython",
    "version": 3
   },
   "file_extension": ".py",
   "mimetype": "text/x-python",
   "name": "python",
   "nbconvert_exporter": "python",
   "pygments_lexer": "ipython3",
   "version": "3.6.7"
  }
 },
 "nbformat": 4,
 "nbformat_minor": 2
}
